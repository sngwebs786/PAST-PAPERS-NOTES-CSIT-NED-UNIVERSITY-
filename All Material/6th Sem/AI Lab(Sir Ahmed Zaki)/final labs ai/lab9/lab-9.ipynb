{
  "nbformat": 4,
  "nbformat_minor": 0,
  "metadata": {
    "colab": {
      "provenance": []
    },
    "kernelspec": {
      "name": "python3",
      "display_name": "Python 3"
    },
    "language_info": {
      "name": "python"
    }
  },
  "cells": [
    {
      "cell_type": "code",
      "execution_count": null,
      "metadata": {
        "id": "iOrAia-UL_Gu"
      },
      "outputs": [],
      "source": [
        "# Import libraries\n",
        "\n",
        "import os,cv2\n",
        "\n",
        "import matplotlib.pyplot as plt\n",
        "\n",
        "from sklearn.utils import shuffle\n",
        "\n",
        "from sklearn.model_selection import train_test_split\n",
        "\n",
        "from keras import backend as K\n",
        "\n",
        "K.image_data_format() =='th'\n",
        "\n",
        "# from keras.layers import Merge\n",
        "\n",
        "from keras.layers import Concatenate\n",
        "\n",
        "from keras.utils import np_utils\n",
        "\n",
        "from keras.layers import LSTM\n",
        "\n",
        "from tensorflow.keras.optimizers import Adam, RMSprop, SGD\n",
        "\n",
        "import glob\n",
        "import numpy as np\n",
        "\n",
        "import pandas as pd\n",
        "\n",
        "import tensorflow as tf\n",
        "\n",
        "from tensorflow.keras.preprocessing.image import ImageDataGenerator\n",
        "\n",
        "from tensorflow.keras.models import Sequential\n",
        "\n",
        "from tensorflow.keras.layers import Dense, Conv2D,MaxPooling2D, Flatten, Dropout"
      ]
    },
    {
      "cell_type": "code",
      "source": [
        "from google.colab import drive\n",
        "drive.mount('/content/drive')"
      ],
      "metadata": {
        "colab": {
          "base_uri": "https://localhost:8080/"
        },
        "id": "py3rtIbpWv7P",
        "outputId": "39d4558b-bafe-46b5-de18-3296caeb776a"
      },
      "execution_count": null,
      "outputs": [
        {
          "output_type": "stream",
          "name": "stdout",
          "text": [
            "Mounted at /content/drive\n"
          ]
        }
      ]
    },
    {
      "cell_type": "code",
      "source": [
        "PATH = os.getcwd()\n",
        "\n",
        "# Define data path\n",
        "\n",
        "data_path = '/content/drive/MyDrive/ADN eye dataset'\n",
        "\n",
        "data_dir_list = os.listdir(data_path)\n",
        "\n",
        "img_rows=128\n",
        "\n",
        "img_cols=128\n",
        "\n",
        "num_channel=1\n",
        "\n",
        "num_epoch=20\n",
        "\n",
        "no_images=0\n",
        "\n",
        "for dataset in data_dir_list:\n",
        "\n",
        "  img_list = os.listdir(data_path + '/' + dataset)\n",
        "\n",
        "  no_images = no_images+len(img_list)\n",
        "\n",
        "# Define the number of classes\n",
        "\n",
        "labels = np.ones((no_images,),dtype='int64')\n",
        "\n",
        "num_classes = 3\n",
        "\n",
        "label_index=0\n",
        "\n",
        "img_data_list=[]\n",
        "\n",
        "img=0\n",
        "for dataset in data_dir_list:\n",
        "\n",
        "  img_list=os.listdir(data_path+'/'+ dataset)\n",
        "\n",
        "  print ('Loaded the images of dataset-'+'{}\\n'.format(dataset))\n",
        "\n",
        "  for img in img_list:\n",
        "\n",
        "    input_img=cv2.imread(data_path + '/'+ dataset + '/'+ img)\n",
        "\n",
        "    input_img=cv2.cvtColor(input_img,cv2.COLOR_BGR2GRAY)\n",
        "\n",
        "    input_img_resize=cv2.resize(input_img,(128,128))\n",
        "\n",
        "    img_data_list.append(input_img_resize)\n",
        "\n",
        "    if dataset[0]== 'A':\n",
        "\n",
        "      labels[label_index]= 0\n",
        "\n",
        "#print(dataset[0])\n",
        "\n",
        "    if dataset[0] == 'D':\n",
        "\n",
        "      labels[label_index] = 1\n",
        "\n",
        "    #print(dataset[0])\n",
        "\n",
        "    if dataset[0] == 'N':\n",
        "\n",
        "      labels[label_index] = 2\n",
        "\n",
        "    label_index = label_index+1\n",
        "\n",
        "    #print(dataset[0])"
      ],
      "metadata": {
        "colab": {
          "base_uri": "https://localhost:8080/"
        },
        "id": "c3Dj7urkNV7G",
        "outputId": "75e681c2-4fd9-4889-f449-474b3fcb5338"
      },
      "execution_count": null,
      "outputs": [
        {
          "output_type": "stream",
          "name": "stdout",
          "text": [
            "Loaded the images of dataset-NORMAL3\n",
            "\n",
            "Loaded the images of dataset-NORMAL8\n",
            "\n",
            "Loaded the images of dataset-NORMAL4\n",
            "\n",
            "Loaded the images of dataset-NORMAL9\n",
            "\n",
            "Loaded the images of dataset-NORMAL7\n",
            "\n",
            "Loaded the images of dataset-NORMAL2\n",
            "\n",
            "Loaded the images of dataset-NORMAL5\n",
            "\n",
            "Loaded the images of dataset-NORMAL6\n",
            "\n",
            "Loaded the images of dataset-NORMAL15\n",
            "\n",
            "Loaded the images of dataset-NORMAL14\n",
            "\n",
            "Loaded the images of dataset-DME9\n",
            "\n",
            "Loaded the images of dataset-NORMAL1\n",
            "\n",
            "Loaded the images of dataset-NORMAL11\n",
            "\n",
            "Loaded the images of dataset-NORMAL12\n",
            "\n",
            "Loaded the images of dataset-DME6\n",
            "\n",
            "Loaded the images of dataset-DME8\n",
            "\n",
            "Loaded the images of dataset-NORMAL13\n",
            "\n",
            "Loaded the images of dataset-DME7\n",
            "\n",
            "Loaded the images of dataset-NORMAL10\n",
            "\n",
            "Loaded the images of dataset-DME5\n",
            "\n",
            "Loaded the images of dataset-DME14\n",
            "\n",
            "Loaded the images of dataset-DME1\n",
            "\n",
            "Loaded the images of dataset-DME11\n",
            "\n",
            "Loaded the images of dataset-DME10\n",
            "\n",
            "Loaded the images of dataset-DME3\n",
            "\n",
            "Loaded the images of dataset-DME15\n",
            "\n",
            "Loaded the images of dataset-DME2\n",
            "\n",
            "Loaded the images of dataset-DME13\n",
            "\n",
            "Loaded the images of dataset-DME12\n",
            "\n",
            "Loaded the images of dataset-DME4\n",
            "\n",
            "Loaded the images of dataset-AMD7\n",
            "\n",
            "Loaded the images of dataset-AMD8\n",
            "\n",
            "Loaded the images of dataset-AMD2\n",
            "\n",
            "Loaded the images of dataset-AMD3\n",
            "\n",
            "Loaded the images of dataset-AMD6\n",
            "\n",
            "Loaded the images of dataset-AMD5\n",
            "\n",
            "Loaded the images of dataset-AMD4\n",
            "\n",
            "Loaded the images of dataset-AMD9\n",
            "\n",
            "Loaded the images of dataset-AMD15\n",
            "\n",
            "Loaded the images of dataset-AMD14\n",
            "\n",
            "Loaded the images of dataset-AMD11\n",
            "\n",
            "Loaded the images of dataset-AMD12\n",
            "\n",
            "Loaded the images of dataset-AMD1\n",
            "\n",
            "Loaded the images of dataset-AMD13\n",
            "\n",
            "Loaded the images of dataset-AMD10\n",
            "\n"
          ]
        }
      ]
    },
    {
      "cell_type": "code",
      "source": [
        "img_data = np.array(img_data_list)\n",
        "\n",
        "img_data = img_data.astype('float32')\n",
        "\n",
        "img_data /= 255\n",
        "\n",
        "print (img_data.shape)\n",
        "\n",
        "# Using 'th' for the image_dim_ordering we get accuracy >=0.99.\n",
        "\n",
        "# Using 'tf' for the dim order I get accuracy >= 0.9 but on more epochs\n",
        "\n",
        "if num_channel==1:\n",
        "\n",
        "  if K.image_data_format()=='channels_first':\n",
        "\n",
        "    img_data= np.expand_dims(img_data, axis=1)\n",
        "\n",
        "    print (img_data.shape)\n",
        "\n",
        "  else:\n",
        "\n",
        "    img_data= np.expand_dims(img_data, axis=3)\n",
        "\n",
        "    print (img_data.shape)\n",
        "\n",
        "else:\n",
        "\n",
        "  if K.image_data_format()=='channels_first':\n",
        "\n",
        "    img_data=np.rollaxis(img_data,3,1)\n",
        "    print (img_data.shape)\n",
        "\n",
        "labels[0:722] = 0\n",
        "\n",
        "labels[723:1823] = 1\n",
        "\n",
        "labels[1824:3231] = 2\n",
        "\n"
      ],
      "metadata": {
        "id": "vliVIoieNZ4M",
        "colab": {
          "base_uri": "https://localhost:8080/"
        },
        "outputId": "141bd63e-a688-46f7-c030-3f54eb2df33c"
      },
      "execution_count": null,
      "outputs": [
        {
          "output_type": "stream",
          "name": "stdout",
          "text": [
            "(3231, 128, 128)\n",
            "(3231, 128, 128, 1)\n"
          ]
        }
      ]
    },
    {
      "cell_type": "code",
      "source": [
        "# Define the number of classes\n",
        "\n",
        "num_classes = 3\n",
        "\n",
        "names = ['AMD','DME','NORMAL']\n",
        "\n",
        "# convert class labels to on-hot encoding\n",
        "\n",
        "Y = np_utils.to_categorical(labels, num_classes)\n",
        "\n",
        "#print(Y)\n",
        "\n",
        "#Shuffle the dataset with random state=2\n",
        "\n",
        "x,y = shuffle(img_data, Y,random_state=2)\n",
        "\n",
        "#print(y)\n",
        "\n",
        "# Split the dataset with 20% testing data\n",
        "\n",
        "X_train, X_test, y_train, y_test = train_test_split(x,y, test_size=0.2, random_state=20)\n",
        "\n",
        "#print(y_test)\n",
        "\n",
        "X_train.shape\n",
        "\n",
        "y_train.shape"
      ],
      "metadata": {
        "id": "zj23rNC8Pd6p",
        "colab": {
          "base_uri": "https://localhost:8080/"
        },
        "outputId": "244e252c-6a04-4efe-91f8-b63b8e8cbb91"
      },
      "execution_count": null,
      "outputs": [
        {
          "output_type": "execute_result",
          "data": {
            "text/plain": [
              "(2584, 3)"
            ]
          },
          "metadata": {},
          "execution_count": 6
        }
      ]
    },
    {
      "cell_type": "code",
      "source": [
        "ann_model=Sequential([Flatten(input_shape=(128,128,1)),Dense(128, activation='relu'),Dropout(0.2),Dense(64, activation='relu'),Dropout(0.2),Dense(3,activation='softmax')])\n",
        "ann_model.compile(optimizer='adam', loss='categorical_crossentropy', metrics=['accuracy'])\n",
        "\n",
        "hist=ann_model.fit(X_train,y_train,epochs=20,batch_size=16,verbose=True,validation_split=0.2)"
      ],
      "metadata": {
        "id": "NSVnOWNHPlQ2",
        "colab": {
          "base_uri": "https://localhost:8080/"
        },
        "outputId": "d2c1a499-d17d-4fbd-d8e9-af1c4433e55a"
      },
      "execution_count": null,
      "outputs": [
        {
          "output_type": "stream",
          "name": "stdout",
          "text": [
            "Epoch 1/20\n",
            "130/130 [==============================] - 7s 36ms/step - loss: 0.9784 - accuracy: 0.5864 - val_loss: 0.7030 - val_accuracy: 0.6770\n",
            "Epoch 2/20\n",
            "130/130 [==============================] - 5s 40ms/step - loss: 0.6688 - accuracy: 0.7160 - val_loss: 0.4898 - val_accuracy: 0.8046\n",
            "Epoch 3/20\n",
            "130/130 [==============================] - 4s 32ms/step - loss: 0.5624 - accuracy: 0.7557 - val_loss: 0.4501 - val_accuracy: 0.8259\n",
            "Epoch 4/20\n",
            "130/130 [==============================] - 4s 33ms/step - loss: 0.5476 - accuracy: 0.7639 - val_loss: 0.4721 - val_accuracy: 0.8588\n",
            "Epoch 5/20\n",
            "130/130 [==============================] - 5s 41ms/step - loss: 0.4988 - accuracy: 0.7983 - val_loss: 0.4221 - val_accuracy: 0.8414\n",
            "Epoch 6/20\n",
            "130/130 [==============================] - 4s 31ms/step - loss: 0.4467 - accuracy: 0.8229 - val_loss: 0.3764 - val_accuracy: 0.8743\n",
            "Epoch 7/20\n",
            "130/130 [==============================] - 4s 32ms/step - loss: 0.3962 - accuracy: 0.8403 - val_loss: 0.3591 - val_accuracy: 0.8685\n",
            "Epoch 8/20\n",
            "130/130 [==============================] - 5s 42ms/step - loss: 0.3732 - accuracy: 0.8510 - val_loss: 0.2799 - val_accuracy: 0.8762\n",
            "Epoch 9/20\n",
            "130/130 [==============================] - 5s 36ms/step - loss: 0.3283 - accuracy: 0.8670 - val_loss: 0.2685 - val_accuracy: 0.9014\n",
            "Epoch 10/20\n",
            "130/130 [==============================] - 4s 32ms/step - loss: 0.2832 - accuracy: 0.8902 - val_loss: 0.2442 - val_accuracy: 0.9033\n",
            "Epoch 11/20\n",
            "130/130 [==============================] - 5s 41ms/step - loss: 0.3022 - accuracy: 0.8723 - val_loss: 0.2401 - val_accuracy: 0.8897\n",
            "Epoch 12/20\n",
            "130/130 [==============================] - 4s 28ms/step - loss: 0.3433 - accuracy: 0.8645 - val_loss: 0.2728 - val_accuracy: 0.9091\n",
            "Epoch 13/20\n",
            "130/130 [==============================] - 4s 28ms/step - loss: 0.2847 - accuracy: 0.8882 - val_loss: 0.2216 - val_accuracy: 0.9188\n",
            "Epoch 14/20\n",
            "130/130 [==============================] - 4s 32ms/step - loss: 0.2368 - accuracy: 0.9110 - val_loss: 0.2277 - val_accuracy: 0.9207\n",
            "Epoch 15/20\n",
            "130/130 [==============================] - 4s 34ms/step - loss: 0.2544 - accuracy: 0.8945 - val_loss: 0.2955 - val_accuracy: 0.8781\n",
            "Epoch 16/20\n",
            "130/130 [==============================] - 4s 28ms/step - loss: 0.3766 - accuracy: 0.8491 - val_loss: 0.3288 - val_accuracy: 0.8627\n",
            "Epoch 17/20\n",
            "130/130 [==============================] - 4s 28ms/step - loss: 0.2903 - accuracy: 0.8752 - val_loss: 0.2149 - val_accuracy: 0.9265\n",
            "Epoch 18/20\n",
            "130/130 [==============================] - 5s 37ms/step - loss: 0.1848 - accuracy: 0.9289 - val_loss: 0.2242 - val_accuracy: 0.9226\n",
            "Epoch 19/20\n",
            "130/130 [==============================] - 4s 31ms/step - loss: 0.1782 - accuracy: 0.9303 - val_loss: 0.1741 - val_accuracy: 0.9439\n",
            "Epoch 20/20\n",
            "130/130 [==============================] - 4s 28ms/step - loss: 0.2554 - accuracy: 0.9061 - val_loss: 0.2070 - val_accuracy: 0.9168\n"
          ]
        }
      ]
    },
    {
      "cell_type": "code",
      "source": [
        "# Predict model on Test Data\n",
        "\n",
        "Y_pred = ann_model.predict(X_test)\n",
        "\n",
        "print(Y_pred)\n",
        "\n",
        "# Printing the confusion matrix\n",
        "\n",
        "from sklearn.metrics import classification_report,confusion_matrix\n",
        "\n",
        "import itertools\n",
        "\n",
        "# Print the classes of the Prediction\n",
        "\n",
        "y_pred = np.argmax(Y_pred, axis=1)\n",
        "\n",
        "print(y_pred)\n",
        "\n",
        "target_names = ['AMD', 'DME', 'Normal']\n",
        "\n",
        "# Plotting the confusion matrix\n"
      ],
      "metadata": {
        "id": "4-QEpU6SPrkX",
        "colab": {
          "base_uri": "https://localhost:8080/"
        },
        "outputId": "d6196b82-3b17-4a41-f34a-17c827fd643b"
      },
      "execution_count": null,
      "outputs": [
        {
          "output_type": "stream",
          "name": "stdout",
          "text": [
            "21/21 [==============================] - 0s 6ms/step\n",
            "[[3.0781728e-30 2.3707728e-12 9.9999994e-01]\n",
            " [1.3506415e-13 3.5546515e-07 9.9999958e-01]\n",
            " [9.6126294e-01 5.8742694e-04 3.8149662e-02]\n",
            " ...\n",
            " [1.2885176e-18 1.9453158e-07 9.9999976e-01]\n",
            " [4.1451690e-06 2.8108938e-02 9.7188693e-01]\n",
            " [4.7203344e-03 7.2722225e-03 9.8800743e-01]]\n",
            "[2 2 0 2 2 2 0 1 1 2 1 1 2 2 1 2 0 1 1 1 2 1 1 2 2 2 0 2 2 2 1 1 1 2 2 2 2\n",
            " 0 2 2 2 2 1 2 1 1 2 2 0 2 2 2 2 1 2 1 2 2 2 2 1 1 2 1 2 2 2 1 1 2 1 0 1 0\n",
            " 1 1 0 2 1 2 1 1 2 2 1 2 0 2 0 1 2 1 1 1 0 2 1 1 2 2 2 2 1 1 1 1 0 1 1 2 1\n",
            " 2 2 1 2 0 1 2 2 1 2 2 2 2 1 2 1 2 2 2 1 2 2 2 0 1 2 2 1 1 0 1 2 1 2 1 1 1\n",
            " 1 1 1 2 2 0 2 2 2 0 1 2 1 2 1 1 2 2 2 2 2 1 2 1 2 1 1 2 1 2 1 2 2 2 2 0 1\n",
            " 1 0 1 2 2 2 0 1 0 1 2 2 1 2 2 2 2 0 1 0 2 1 2 0 2 1 2 1 2 1 0 1 1 1 2 2 2\n",
            " 2 2 2 2 0 1 0 2 1 1 1 2 1 1 1 0 1 1 2 2 2 1 1 2 0 2 1 2 2 0 2 0 2 2 2 1 1\n",
            " 2 0 2 2 2 1 1 1 2 0 2 2 1 2 2 2 2 1 2 2 2 1 2 1 2 2 2 1 1 0 1 1 1 1 2 2 2\n",
            " 2 2 2 0 1 2 2 1 2 2 2 0 1 2 0 1 2 1 1 1 2 0 2 2 1 0 1 1 1 2 2 0 0 2 1 2 1\n",
            " 2 1 2 0 0 1 0 0 2 2 2 2 1 1 2 0 1 2 0 1 1 2 1 1 2 0 2 2 1 2 1 2 0 0 1 1 2\n",
            " 2 2 1 1 1 1 1 0 1 1 2 1 0 0 2 2 0 2 1 2 2 1 1 2 2 1 2 0 2 2 2 2 1 2 2 0 2\n",
            " 0 2 2 2 1 2 2 1 2 2 1 2 2 2 0 1 1 2 2 1 2 2 2 1 2 1 1 2 1 1 1 2 2 2 0 1 2\n",
            " 0 0 1 0 0 1 2 1 2 2 2 2 2 0 1 1 2 1 1 2 2 2 1 1 2 2 1 1 1 1 2 1 2 2 2 2 1\n",
            " 2 2 1 0 2 1 1 1 2 2 1 1 2 1 1 0 2 1 1 2 2 1 2 1 2 1 1 2 0 2 2 2 2 2 0 2 1\n",
            " 0 1 1 0 1 1 2 2 2 2 2 2 0 0 2 1 0 2 1 2 1 1 2 0 2 2 0 1 2 1 2 2 2 1 1 1 1\n",
            " 1 2 2 2 0 1 2 2 2 0 0 1 2 2 2 1 2 1 1 0 0 1 2 2 0 2 1 1 1 1 2 1 0 1 2 1 2\n",
            " 1 2 0 2 0 1 1 2 1 0 1 2 1 0 0 1 1 1 2 2 1 2 1 2 2 2 0 1 0 1 2 0 2 2 2 2 2\n",
            " 2 2 2 2 2 1 2 1 2 2 2 1 1 0 2 2 2 2]\n"
          ]
        }
      ]
    },
    {
      "cell_type": "code",
      "source": [
        "def plot_confusion_matrix(cm, classes,normalize=False,title='Confusion matrix',cmap=plt.cm.Blues):\n",
        "  \"\"\"\n",
        "\n",
        "  This function prints and plots the confusion matrix.\n",
        "\n",
        "  Normalization can be applied by setting `normalize=True`.\n",
        "\n",
        "  \"\"\"\n",
        "\n",
        "  plt.imshow(cm, interpolation='nearest', cmap=cmap)\n",
        "\n",
        "  plt.title(title)\n",
        "\n",
        "  plt.colorbar()\n",
        "\n",
        "  tick_marks = np.arange(len(classes))\n",
        "\n",
        "  plt.xticks(tick_marks, classes, rotation=45)\n",
        "\n",
        "  plt.yticks(tick_marks, classes)\n",
        "\n",
        "  if normalize:\n",
        "\n",
        "    cm = cm.astype('float') / cm.sum(axis=1)[:, np.newaxis]\n",
        "\n",
        "    print(\"Normalized confusion matrix\")\n",
        "\n",
        "  else:\n",
        "\n",
        "    print('Confusion matrix, without normalization')\n",
        "\n",
        "  print(cm)\n",
        "\n",
        "  thresh = cm.max() / 2.\n",
        "\n",
        "  for i, j in itertools.product(range(cm.shape[0]),range(cm.shape[1])):\n",
        "\n",
        "    plt.text(j, i, cm[i, j],\n",
        "\n",
        "    horizontalalignment=\"center\",\n",
        "\n",
        "    color=\"white\" if cm[i, j] > thresh else \"black\")\n",
        "\n",
        "    plt.tight_layout()\n",
        "\n",
        "    plt.ylabel('True label')\n",
        "\n",
        "    plt.xlabel('Predicted label')\n"
      ],
      "metadata": {
        "id": "Yv0G6JEtPsHa"
      },
      "execution_count": null,
      "outputs": []
    },
    {
      "cell_type": "code",
      "source": [
        "\n",
        "\n",
        "#Computation confusion matrix\n",
        "\n",
        "cnf_matrix = (confusion_matrix(np.argmax(y_test,axis=1),\n",
        "y_pred))\n",
        "\n",
        "np.set_printoptions(precision=3)\n",
        "\n",
        "plt.figure()\n",
        "# Plotting non-normalized confusion matrix\n",
        "\n",
        "plot_confusion_matrix(cnf_matrix, classes=target_names,\n",
        "\n",
        "title='Confusion matrix')\n",
        "\n",
        "plt.show()"
      ],
      "metadata": {
        "id": "SXJyQuEoP12I",
        "colab": {
          "base_uri": "https://localhost:8080/",
          "height": 556
        },
        "outputId": "0a575085-6d5d-46b6-d8ab-9b17855d2db9"
      },
      "execution_count": null,
      "outputs": [
        {
          "output_type": "stream",
          "name": "stdout",
          "text": [
            "Confusion matrix, without normalization\n",
            "[[ 91  14  23]\n",
            " [  1 214  20]\n",
            " [  0  11 273]]\n"
          ]
        },
        {
          "output_type": "display_data",
          "data": {
            "text/plain": [
              "<Figure size 640x480 with 2 Axes>"
            ],
            "image/png": "[encoded data removed]"
          },
          "metadata": {}
        }
      ]
    },
    {
      "cell_type": "code",
      "source": [
        "from sklearn.metrics import classification_report\n",
        "\n",
        "#reversing one hot encoding\n",
        "\n",
        "a = np.array(y_test)\n",
        "\n",
        "import pandas as pd\n",
        "\n",
        "df= pd.DataFrame({\"0\":a[:,0],\"1\":a[:,1],\"2\":a[:,2]})\n",
        "\n",
        "#print(df)\n",
        "\n",
        "#print(a)\n",
        "\n",
        "df['tags']=''\n",
        "\n",
        "for col_name in df.columns:\n",
        "\n",
        "  df.loc[df[col_name]==1,'tags']= df['tags']+' '+col_name\n",
        "\n",
        "df['tags'] = df['tags'].astype(int)\n",
        "\n",
        "#print(df['tags'].dtype)\n",
        "\n",
        "#print(y_pred.dtype)\n",
        "\n",
        "print(classification_report(df['tags'], y_pred,target_names=target_names))"
      ],
      "metadata": {
        "id": "zvAAnMofP6s5",
        "colab": {
          "base_uri": "https://localhost:8080/"
        },
        "outputId": "d5a41a56-3c29-42da-ada2-9c2074a6665a"
      },
      "execution_count": null,
      "outputs": [
        {
          "output_type": "stream",
          "name": "stdout",
          "text": [
            "              precision    recall  f1-score   support\n",
            "\n",
            "         AMD       0.99      0.71      0.83       128\n",
            "         DME       0.90      0.91      0.90       235\n",
            "      Normal       0.86      0.96      0.91       284\n",
            "\n",
            "    accuracy                           0.89       647\n",
            "   macro avg       0.92      0.86      0.88       647\n",
            "weighted avg       0.90      0.89      0.89       647\n",
            "\n"
          ]
        }
      ]
    }
  ]
}